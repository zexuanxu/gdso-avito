{
 "cells": [
  {
   "cell_type": "markdown",
   "metadata": {},
   "source": [
    "# Periods Data Feature Extraction\n",
    "\n",
    "This module help extract features from \"periods_train.csv\" or \"periods_test.csv\" such as is_holiday, wday (weekday), etc for final training of the model given an item_id."
   ]
  },
  {
   "cell_type": "markdown",
   "metadata": {},
   "source": [
    "## Note: \n",
    "This is a practice notebook. For the result"
   ]
  },
  {
   "cell_type": "code",
   "execution_count": 1,
   "metadata": {},
   "outputs": [],
   "source": [
    "import pandas as pd\n",
    "import sqlite3\n",
    "from sqlalchemy.engine import create_engine\n",
    "import numpy as np\n",
    "import matplotlib.pyplot as plt\n",
    "from sklearn import datasets\n",
    "from sklearn import preprocessing\n",
    "from time import time\n",
    "from utils import featurize_date_col, is_russian_2017_holiday\n",
    "\n",
    "pd.options.mode.chained_assignment = None\n",
    "%matplotlib inline"
   ]
  },
  {
   "cell_type": "code",
   "execution_count": 2,
   "metadata": {},
   "outputs": [
    {
     "name": "stdout",
     "output_type": "stream",
     "text": [
      "it took 31.845133066177368 seconds\n"
     ]
    }
   ],
   "source": [
    "# avito = sqlite3.connect(\"data/avito.db\")\n",
    "start_time = time()\n",
    "# either:\n",
    "# 1) (only the read_csv parts take 30 seconds)\n",
    "train = pd.read_csv('data/periods_train.csv')\n",
    "# train.to_sql('periods_train', avito)\n",
    "test = pd.read_csv('data/periods_test.csv')\n",
    "# test.to_sql('periods_test', avito)\n",
    "\n",
    "# or 2) (it took 120 seconds)\n",
    "# train = pd.read_sql('SELECT * from periods_train', avito, index_col='item_id')\n",
    "# test = pd.read_sql('SELECT * from periods_test', avito, index_col='item_id')\n",
    "\n",
    "print('it took {} seconds'.format(time() - start_time))"
   ]
  },
  {
   "cell_type": "code",
   "execution_count": 3,
   "metadata": {},
   "outputs": [],
   "source": [
    "train[1000000:1500000].to_csv('data/periods_train_500000.csv')"
   ]
  },
  {
   "cell_type": "code",
   "execution_count": 4,
   "metadata": {},
   "outputs": [
    {
     "data": {
      "text/html": [
       "<div>\n",
       "<style scoped>\n",
       "    .dataframe tbody tr th:only-of-type {\n",
       "        vertical-align: middle;\n",
       "    }\n",
       "\n",
       "    .dataframe tbody tr th {\n",
       "        vertical-align: top;\n",
       "    }\n",
       "\n",
       "    .dataframe thead th {\n",
       "        text-align: right;\n",
       "    }\n",
       "</style>\n",
       "<table border=\"1\" class=\"dataframe\">\n",
       "  <thead>\n",
       "    <tr style=\"text-align: right;\">\n",
       "      <th></th>\n",
       "      <th>item_id</th>\n",
       "      <th>activation_date</th>\n",
       "      <th>date_from</th>\n",
       "      <th>date_to</th>\n",
       "    </tr>\n",
       "  </thead>\n",
       "  <tbody>\n",
       "    <tr>\n",
       "      <th>0</th>\n",
       "      <td>8f5caef7afb0</td>\n",
       "      <td>2017-02-14</td>\n",
       "      <td>2017-03-15</td>\n",
       "      <td>2017-03-16</td>\n",
       "    </tr>\n",
       "    <tr>\n",
       "      <th>1</th>\n",
       "      <td>66218ff526d1</td>\n",
       "      <td>2017-02-16</td>\n",
       "      <td>2017-03-15</td>\n",
       "      <td>2017-03-18</td>\n",
       "    </tr>\n",
       "    <tr>\n",
       "      <th>2</th>\n",
       "      <td>b237d9539b21</td>\n",
       "      <td>2017-03-01</td>\n",
       "      <td>2017-03-15</td>\n",
       "      <td>2017-03-28</td>\n",
       "    </tr>\n",
       "    <tr>\n",
       "      <th>3</th>\n",
       "      <td>80bf58082ad3</td>\n",
       "      <td>2017-03-19</td>\n",
       "      <td>2017-03-19</td>\n",
       "      <td>2017-03-28</td>\n",
       "    </tr>\n",
       "    <tr>\n",
       "      <th>4</th>\n",
       "      <td>67a9944a7373</td>\n",
       "      <td>2017-03-14</td>\n",
       "      <td>2017-03-15</td>\n",
       "      <td>2017-03-28</td>\n",
       "    </tr>\n",
       "  </tbody>\n",
       "</table>\n",
       "</div>"
      ],
      "text/plain": [
       "        item_id activation_date   date_from     date_to\n",
       "0  8f5caef7afb0      2017-02-14  2017-03-15  2017-03-16\n",
       "1  66218ff526d1      2017-02-16  2017-03-15  2017-03-18\n",
       "2  b237d9539b21      2017-03-01  2017-03-15  2017-03-28\n",
       "3  80bf58082ad3      2017-03-19  2017-03-19  2017-03-28\n",
       "4  67a9944a7373      2017-03-14  2017-03-15  2017-03-28"
      ]
     },
     "execution_count": 4,
     "metadata": {},
     "output_type": "execute_result"
    }
   ],
   "source": [
    "train.head()"
   ]
  },
  {
   "cell_type": "code",
   "execution_count": 5,
   "metadata": {},
   "outputs": [],
   "source": [
    "df = train[1000000:1500000]"
   ]
  },
  {
   "cell_type": "code",
   "execution_count": 6,
   "metadata": {},
   "outputs": [],
   "source": [
    "null_idx = df['activation_date'].isnull()\n",
    "df['activation_date'].loc[null_idx] = df['date_from'].loc[null_idx]"
   ]
  },
  {
   "cell_type": "code",
   "execution_count": 7,
   "metadata": {},
   "outputs": [
    {
     "data": {
      "text/plain": [
       "497384"
      ]
     },
     "execution_count": 7,
     "metadata": {},
     "output_type": "execute_result"
    }
   ],
   "source": [
    "len(df['item_id'].unique())"
   ]
  },
  {
   "cell_type": "code",
   "execution_count": 8,
   "metadata": {},
   "outputs": [],
   "source": [
    "temp = df[df['item_id'].duplicated()]"
   ]
  },
  {
   "cell_type": "code",
   "execution_count": 9,
   "metadata": {},
   "outputs": [],
   "source": [
    "dft = df[df['item_id'].isin(temp['item_id'])]"
   ]
  },
  {
   "cell_type": "code",
   "execution_count": 10,
   "metadata": {},
   "outputs": [],
   "source": [
    "observe_ids = dft['item_id']"
   ]
  },
  {
   "cell_type": "markdown",
   "metadata": {},
   "source": [
    "## initial preparation and sanity checks"
   ]
  },
  {
   "cell_type": "code",
   "execution_count": 11,
   "metadata": {},
   "outputs": [],
   "source": [
    "for col in ['activation_date', 'date_from', 'date_to']:\n",
    "    df[col] = pd.to_datetime(df[col], format='%Y-%m-%d')"
   ]
  },
  {
   "cell_type": "code",
   "execution_count": 12,
   "metadata": {},
   "outputs": [],
   "source": [
    "assert (df['date_to'] >= df['date_from']).all()"
   ]
  },
  {
   "cell_type": "code",
   "execution_count": 13,
   "metadata": {},
   "outputs": [],
   "source": [
    "assert (df['date_from'] >= df['activation_date']).all()"
   ]
  },
  {
   "cell_type": "markdown",
   "metadata": {},
   "source": [
    "## Feature generation"
   ]
  },
  {
   "cell_type": "code",
   "execution_count": 14,
   "metadata": {},
   "outputs": [],
   "source": [
    "df['days_to_publish'] = (df['date_from'] - df['activation_date']).dt.days"
   ]
  },
  {
   "cell_type": "code",
   "execution_count": 15,
   "metadata": {},
   "outputs": [],
   "source": [
    "df['days_online'] = (df['date_to'] - df['date_from']).dt.days"
   ]
  },
  {
   "cell_type": "code",
   "execution_count": 16,
   "metadata": {},
   "outputs": [],
   "source": [
    "for col in ['activation_date', 'date_from', 'date_to']:\n",
    "    df = featurize_date_col(df, col, remove_when_done=False)"
   ]
  },
  {
   "cell_type": "code",
   "execution_count": 17,
   "metadata": {},
   "outputs": [
    {
     "data": {
      "text/html": [
       "<div>\n",
       "<style scoped>\n",
       "    .dataframe tbody tr th:only-of-type {\n",
       "        vertical-align: middle;\n",
       "    }\n",
       "\n",
       "    .dataframe tbody tr th {\n",
       "        vertical-align: top;\n",
       "    }\n",
       "\n",
       "    .dataframe thead th {\n",
       "        text-align: right;\n",
       "    }\n",
       "</style>\n",
       "<table border=\"1\" class=\"dataframe\">\n",
       "  <thead>\n",
       "    <tr style=\"text-align: right;\">\n",
       "      <th></th>\n",
       "      <th>item_id</th>\n",
       "      <th>activation_date</th>\n",
       "      <th>date_from</th>\n",
       "      <th>date_to</th>\n",
       "      <th>days_to_publish</th>\n",
       "      <th>days_online</th>\n",
       "      <th>activation_date_isholiday</th>\n",
       "      <th>activation_date_wday</th>\n",
       "      <th>activation_date_yday</th>\n",
       "      <th>date_from_isholiday</th>\n",
       "      <th>date_from_wday</th>\n",
       "      <th>date_from_yday</th>\n",
       "      <th>date_to_isholiday</th>\n",
       "      <th>date_to_wday</th>\n",
       "      <th>date_to_yday</th>\n",
       "    </tr>\n",
       "  </thead>\n",
       "  <tbody>\n",
       "    <tr>\n",
       "      <th>1000000</th>\n",
       "      <td>b8a335c6ceee</td>\n",
       "      <td>2017-03-10</td>\n",
       "      <td>2017-03-15</td>\n",
       "      <td>2017-03-28</td>\n",
       "      <td>5</td>\n",
       "      <td>13</td>\n",
       "      <td>0</td>\n",
       "      <td>4</td>\n",
       "      <td>69</td>\n",
       "      <td>0</td>\n",
       "      <td>2</td>\n",
       "      <td>74</td>\n",
       "      <td>0</td>\n",
       "      <td>1</td>\n",
       "      <td>87</td>\n",
       "    </tr>\n",
       "    <tr>\n",
       "      <th>1000001</th>\n",
       "      <td>e208f79e7c47</td>\n",
       "      <td>2017-02-27</td>\n",
       "      <td>2017-03-15</td>\n",
       "      <td>2017-03-18</td>\n",
       "      <td>16</td>\n",
       "      <td>3</td>\n",
       "      <td>0</td>\n",
       "      <td>0</td>\n",
       "      <td>58</td>\n",
       "      <td>0</td>\n",
       "      <td>2</td>\n",
       "      <td>74</td>\n",
       "      <td>0</td>\n",
       "      <td>5</td>\n",
       "      <td>77</td>\n",
       "    </tr>\n",
       "    <tr>\n",
       "      <th>1000002</th>\n",
       "      <td>87c311723851</td>\n",
       "      <td>2017-03-19</td>\n",
       "      <td>2017-03-19</td>\n",
       "      <td>2017-03-28</td>\n",
       "      <td>0</td>\n",
       "      <td>9</td>\n",
       "      <td>0</td>\n",
       "      <td>6</td>\n",
       "      <td>78</td>\n",
       "      <td>0</td>\n",
       "      <td>6</td>\n",
       "      <td>78</td>\n",
       "      <td>0</td>\n",
       "      <td>1</td>\n",
       "      <td>87</td>\n",
       "    </tr>\n",
       "    <tr>\n",
       "      <th>1000003</th>\n",
       "      <td>6f650813ed85</td>\n",
       "      <td>2017-03-14</td>\n",
       "      <td>2017-03-15</td>\n",
       "      <td>2017-03-28</td>\n",
       "      <td>1</td>\n",
       "      <td>13</td>\n",
       "      <td>0</td>\n",
       "      <td>1</td>\n",
       "      <td>73</td>\n",
       "      <td>0</td>\n",
       "      <td>2</td>\n",
       "      <td>74</td>\n",
       "      <td>0</td>\n",
       "      <td>1</td>\n",
       "      <td>87</td>\n",
       "    </tr>\n",
       "    <tr>\n",
       "      <th>1000004</th>\n",
       "      <td>0b2fc250404f</td>\n",
       "      <td>2017-03-20</td>\n",
       "      <td>2017-03-20</td>\n",
       "      <td>2017-03-28</td>\n",
       "      <td>0</td>\n",
       "      <td>8</td>\n",
       "      <td>0</td>\n",
       "      <td>0</td>\n",
       "      <td>79</td>\n",
       "      <td>0</td>\n",
       "      <td>0</td>\n",
       "      <td>79</td>\n",
       "      <td>0</td>\n",
       "      <td>1</td>\n",
       "      <td>87</td>\n",
       "    </tr>\n",
       "  </tbody>\n",
       "</table>\n",
       "</div>"
      ],
      "text/plain": [
       "              item_id activation_date  date_from    date_to  days_to_publish  \\\n",
       "1000000  b8a335c6ceee      2017-03-10 2017-03-15 2017-03-28                5   \n",
       "1000001  e208f79e7c47      2017-02-27 2017-03-15 2017-03-18               16   \n",
       "1000002  87c311723851      2017-03-19 2017-03-19 2017-03-28                0   \n",
       "1000003  6f650813ed85      2017-03-14 2017-03-15 2017-03-28                1   \n",
       "1000004  0b2fc250404f      2017-03-20 2017-03-20 2017-03-28                0   \n",
       "\n",
       "         days_online  activation_date_isholiday  activation_date_wday  \\\n",
       "1000000           13                          0                     4   \n",
       "1000001            3                          0                     0   \n",
       "1000002            9                          0                     6   \n",
       "1000003           13                          0                     1   \n",
       "1000004            8                          0                     0   \n",
       "\n",
       "         activation_date_yday  date_from_isholiday  date_from_wday  \\\n",
       "1000000                    69                    0               2   \n",
       "1000001                    58                    0               2   \n",
       "1000002                    78                    0               6   \n",
       "1000003                    73                    0               2   \n",
       "1000004                    79                    0               0   \n",
       "\n",
       "         date_from_yday  date_to_isholiday  date_to_wday  date_to_yday  \n",
       "1000000              74                  0             1            87  \n",
       "1000001              74                  0             5            77  \n",
       "1000002              78                  0             1            87  \n",
       "1000003              74                  0             1            87  \n",
       "1000004              79                  0             1            87  "
      ]
     },
     "execution_count": 17,
     "metadata": {},
     "output_type": "execute_result"
    }
   ],
   "source": [
    "df.head()"
   ]
  },
  {
   "cell_type": "code",
   "execution_count": 22,
   "metadata": {},
   "outputs": [],
   "source": [
    "grouped = df.groupby('item_id')"
   ]
  },
  {
   "cell_type": "code",
   "execution_count": 23,
   "metadata": {},
   "outputs": [],
   "source": [
    "base = grouped[['item_id']].count().rename(columns={'item_id': 'nlisted'})"
   ]
  },
  {
   "cell_type": "code",
   "execution_count": 24,
   "metadata": {},
   "outputs": [],
   "source": [
    "base['sum_days_online'] = grouped[['days_online']].sum()\n",
    "base['mean_days_online'] = grouped[['days_online']].mean()\n",
    "base['last_days_online'] = grouped[['days_online']].last()\n",
    "base['sum_days_to_publishe'] = grouped[['days_to_publish']].sum()\n",
    "base['mean_days_to_publish'] = grouped[['days_to_publish']].mean()\n",
    "base['median_date_to_isholiday'] = grouped[['date_to_isholiday']].median()\n",
    "base['median_date_to_wday'] = grouped[['date_to_wday']].median()\n",
    "base['median_date_to_yday'] = grouped[['date_to_yday']].median()\n",
    "\n",
    "base['start_date'] = grouped[['date_from']].min()\n",
    "base['end_date'] = grouped[['date_to']].max()\n",
    "for col in ['start_date', 'end_date']:\n",
    "    base = featurize_date_col(base, col, remove_when_done=True)"
   ]
  },
  {
   "cell_type": "code",
   "execution_count": 25,
   "metadata": {},
   "outputs": [
    {
     "data": {
      "text/html": [
       "<div>\n",
       "<style scoped>\n",
       "    .dataframe tbody tr th:only-of-type {\n",
       "        vertical-align: middle;\n",
       "    }\n",
       "\n",
       "    .dataframe tbody tr th {\n",
       "        vertical-align: top;\n",
       "    }\n",
       "\n",
       "    .dataframe thead th {\n",
       "        text-align: right;\n",
       "    }\n",
       "</style>\n",
       "<table border=\"1\" class=\"dataframe\">\n",
       "  <thead>\n",
       "    <tr style=\"text-align: right;\">\n",
       "      <th></th>\n",
       "      <th>nlisted</th>\n",
       "      <th>sum_days_online</th>\n",
       "      <th>mean_days_online</th>\n",
       "      <th>last_days_online</th>\n",
       "      <th>sum_days_to_publishe</th>\n",
       "      <th>mean_days_to_publish</th>\n",
       "      <th>median_date_to_isholiday</th>\n",
       "      <th>median_date_to_wday</th>\n",
       "      <th>median_date_to_yday</th>\n",
       "      <th>start_date_isholiday</th>\n",
       "      <th>start_date_wday</th>\n",
       "      <th>start_date_yday</th>\n",
       "      <th>end_date_isholiday</th>\n",
       "      <th>end_date_wday</th>\n",
       "      <th>end_date_yday</th>\n",
       "    </tr>\n",
       "    <tr>\n",
       "      <th>item_id</th>\n",
       "      <th></th>\n",
       "      <th></th>\n",
       "      <th></th>\n",
       "      <th></th>\n",
       "      <th></th>\n",
       "      <th></th>\n",
       "      <th></th>\n",
       "      <th></th>\n",
       "      <th></th>\n",
       "      <th></th>\n",
       "      <th></th>\n",
       "      <th></th>\n",
       "      <th></th>\n",
       "      <th></th>\n",
       "      <th></th>\n",
       "    </tr>\n",
       "  </thead>\n",
       "  <tbody>\n",
       "    <tr>\n",
       "      <th>add31fa463ff</th>\n",
       "      <td>2</td>\n",
       "      <td>12</td>\n",
       "      <td>6.0</td>\n",
       "      <td>7</td>\n",
       "      <td>22</td>\n",
       "      <td>11.0</td>\n",
       "      <td>0</td>\n",
       "      <td>1.5</td>\n",
       "      <td>84.0</td>\n",
       "      <td>0</td>\n",
       "      <td>2</td>\n",
       "      <td>74</td>\n",
       "      <td>0</td>\n",
       "      <td>1</td>\n",
       "      <td>87</td>\n",
       "    </tr>\n",
       "    <tr>\n",
       "      <th>c45babdedc70</th>\n",
       "      <td>2</td>\n",
       "      <td>7</td>\n",
       "      <td>3.5</td>\n",
       "      <td>6</td>\n",
       "      <td>29</td>\n",
       "      <td>14.5</td>\n",
       "      <td>0</td>\n",
       "      <td>2.0</td>\n",
       "      <td>81.0</td>\n",
       "      <td>0</td>\n",
       "      <td>2</td>\n",
       "      <td>74</td>\n",
       "      <td>0</td>\n",
       "      <td>1</td>\n",
       "      <td>87</td>\n",
       "    </tr>\n",
       "    <tr>\n",
       "      <th>d3b49ff66adb</th>\n",
       "      <td>2</td>\n",
       "      <td>12</td>\n",
       "      <td>6.0</td>\n",
       "      <td>4</td>\n",
       "      <td>22</td>\n",
       "      <td>11.0</td>\n",
       "      <td>0</td>\n",
       "      <td>2.0</td>\n",
       "      <td>84.5</td>\n",
       "      <td>0</td>\n",
       "      <td>2</td>\n",
       "      <td>74</td>\n",
       "      <td>0</td>\n",
       "      <td>1</td>\n",
       "      <td>87</td>\n",
       "    </tr>\n",
       "    <tr>\n",
       "      <th>6988ea13f791</th>\n",
       "      <td>2</td>\n",
       "      <td>12</td>\n",
       "      <td>6.0</td>\n",
       "      <td>7</td>\n",
       "      <td>25</td>\n",
       "      <td>12.5</td>\n",
       "      <td>0</td>\n",
       "      <td>0.5</td>\n",
       "      <td>83.0</td>\n",
       "      <td>0</td>\n",
       "      <td>2</td>\n",
       "      <td>74</td>\n",
       "      <td>0</td>\n",
       "      <td>1</td>\n",
       "      <td>87</td>\n",
       "    </tr>\n",
       "    <tr>\n",
       "      <th>7c0563f4d6b0</th>\n",
       "      <td>2</td>\n",
       "      <td>12</td>\n",
       "      <td>6.0</td>\n",
       "      <td>5</td>\n",
       "      <td>23</td>\n",
       "      <td>11.5</td>\n",
       "      <td>0</td>\n",
       "      <td>1.5</td>\n",
       "      <td>84.0</td>\n",
       "      <td>0</td>\n",
       "      <td>2</td>\n",
       "      <td>74</td>\n",
       "      <td>0</td>\n",
       "      <td>1</td>\n",
       "      <td>87</td>\n",
       "    </tr>\n",
       "  </tbody>\n",
       "</table>\n",
       "</div>"
      ],
      "text/plain": [
       "              nlisted  sum_days_online  mean_days_online  last_days_online  \\\n",
       "item_id                                                                      \n",
       "add31fa463ff        2               12               6.0                 7   \n",
       "c45babdedc70        2                7               3.5                 6   \n",
       "d3b49ff66adb        2               12               6.0                 4   \n",
       "6988ea13f791        2               12               6.0                 7   \n",
       "7c0563f4d6b0        2               12               6.0                 5   \n",
       "\n",
       "              sum_days_to_publishe  mean_days_to_publish  \\\n",
       "item_id                                                    \n",
       "add31fa463ff                    22                  11.0   \n",
       "c45babdedc70                    29                  14.5   \n",
       "d3b49ff66adb                    22                  11.0   \n",
       "6988ea13f791                    25                  12.5   \n",
       "7c0563f4d6b0                    23                  11.5   \n",
       "\n",
       "              median_date_to_isholiday  median_date_to_wday  \\\n",
       "item_id                                                       \n",
       "add31fa463ff                         0                  1.5   \n",
       "c45babdedc70                         0                  2.0   \n",
       "d3b49ff66adb                         0                  2.0   \n",
       "6988ea13f791                         0                  0.5   \n",
       "7c0563f4d6b0                         0                  1.5   \n",
       "\n",
       "              median_date_to_yday  start_date_isholiday  start_date_wday  \\\n",
       "item_id                                                                    \n",
       "add31fa463ff                 84.0                     0                2   \n",
       "c45babdedc70                 81.0                     0                2   \n",
       "d3b49ff66adb                 84.5                     0                2   \n",
       "6988ea13f791                 83.0                     0                2   \n",
       "7c0563f4d6b0                 84.0                     0                2   \n",
       "\n",
       "              start_date_yday  end_date_isholiday  end_date_wday  \\\n",
       "item_id                                                            \n",
       "add31fa463ff               74                   0              1   \n",
       "c45babdedc70               74                   0              1   \n",
       "d3b49ff66adb               74                   0              1   \n",
       "6988ea13f791               74                   0              1   \n",
       "7c0563f4d6b0               74                   0              1   \n",
       "\n",
       "              end_date_yday  \n",
       "item_id                      \n",
       "add31fa463ff             87  \n",
       "c45babdedc70             87  \n",
       "d3b49ff66adb             87  \n",
       "6988ea13f791             87  \n",
       "7c0563f4d6b0             87  "
      ]
     },
     "execution_count": 25,
     "metadata": {},
     "output_type": "execute_result"
    }
   ],
   "source": [
    "base.loc[observe_ids].head()"
   ]
  },
  {
   "cell_type": "code",
   "execution_count": null,
   "metadata": {},
   "outputs": [],
   "source": []
  }
 ],
 "metadata": {
  "kernelspec": {
   "display_name": "Python 3",
   "language": "python",
   "name": "python3"
  },
  "language_info": {
   "codemirror_mode": {
    "name": "ipython",
    "version": 3
   },
   "file_extension": ".py",
   "mimetype": "text/x-python",
   "name": "python",
   "nbconvert_exporter": "python",
   "pygments_lexer": "ipython3",
   "version": "3.6.5"
  }
 },
 "nbformat": 4,
 "nbformat_minor": 2
}
