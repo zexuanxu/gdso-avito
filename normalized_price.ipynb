{
 "cells": [
  {
   "cell_type": "code",
   "execution_count": 21,
   "metadata": {},
   "outputs": [],
   "source": [
    "import pandas as pd\n",
    "import numpy as np\n",
    "import matplotlib.pylab as plt"
   ]
  },
  {
   "cell_type": "code",
   "execution_count": 2,
   "metadata": {},
   "outputs": [],
   "source": [
    "train = pd.read_csv('data/train.csv')\n",
    "train_active = pd.read_csv('data/train_active.csv')"
   ]
  },
  {
   "cell_type": "code",
   "execution_count": 56,
   "metadata": {},
   "outputs": [],
   "source": [
    "# # to run with all the data\n",
    "# df_t = train\n",
    "# df_ta = train_active\n",
    "\n",
    "# for testing with subset of data\n",
    "df_t = train[:1000]\n",
    "df_ta = train_active[:1000]"
   ]
  },
  {
   "cell_type": "code",
   "execution_count": 57,
   "metadata": {},
   "outputs": [],
   "source": [
    "# Combining train and train_active into df_all\n",
    "\n",
    "# delete extra columns in train which are not in train_active\n",
    "df_all = df_t.drop(['deal_probability', 'image', 'image_top_1'],axis = 1)\n",
    "\n",
    "# add train_active to df_all\n",
    "df_all = df_all.append(df_ta)\n",
    "\n",
    "# remove other columns\n",
    "df_all = df_all.drop(['user_id', 'region', 'parent_category_name', 'city', 'param_1', 'param_2',\n",
    "                      'param_3', 'title', 'description',\n",
    "                      'item_seq_number', 'activation_date', 'user_type'], \n",
    "                     axis = 1)\n",
    "\n",
    "# remove other columns from df_t (apart from deal probability)\n",
    "df_t = df_t.drop(['image', 'image_top_1','user_id', 'region', 'parent_category_name', \n",
    "                  'city', 'param_1', 'param_2','param_3', 'title', 'description',\n",
    "                  'item_seq_number', 'activation_date', 'user_type'],\n",
    "                 axis = 1)"
   ]
  },
  {
   "cell_type": "code",
   "execution_count": 58,
   "metadata": {},
   "outputs": [
    {
     "data": {
      "text/html": [
       "<div>\n",
       "<style scoped>\n",
       "    .dataframe tbody tr th:only-of-type {\n",
       "        vertical-align: middle;\n",
       "    }\n",
       "\n",
       "    .dataframe tbody tr th {\n",
       "        vertical-align: top;\n",
       "    }\n",
       "\n",
       "    .dataframe thead th {\n",
       "        text-align: right;\n",
       "    }\n",
       "</style>\n",
       "<table border=\"1\" class=\"dataframe\">\n",
       "  <thead>\n",
       "    <tr style=\"text-align: right;\">\n",
       "      <th></th>\n",
       "      <th>item_id</th>\n",
       "      <th>category_name</th>\n",
       "      <th>price</th>\n",
       "    </tr>\n",
       "  </thead>\n",
       "  <tbody>\n",
       "    <tr>\n",
       "      <th>0</th>\n",
       "      <td>b912c3c6a6ad</td>\n",
       "      <td>Товары для детей и игрушки</td>\n",
       "      <td>400.0</td>\n",
       "    </tr>\n",
       "    <tr>\n",
       "      <th>1</th>\n",
       "      <td>2dac0150717d</td>\n",
       "      <td>Мебель и интерьер</td>\n",
       "      <td>3000.0</td>\n",
       "    </tr>\n",
       "    <tr>\n",
       "      <th>2</th>\n",
       "      <td>ba83aefab5dc</td>\n",
       "      <td>Аудио и видео</td>\n",
       "      <td>4000.0</td>\n",
       "    </tr>\n",
       "    <tr>\n",
       "      <th>3</th>\n",
       "      <td>02996f1dd2ea</td>\n",
       "      <td>Товары для детей и игрушки</td>\n",
       "      <td>2200.0</td>\n",
       "    </tr>\n",
       "    <tr>\n",
       "      <th>4</th>\n",
       "      <td>7c90be56d2ab</td>\n",
       "      <td>Автомобили</td>\n",
       "      <td>40000.0</td>\n",
       "    </tr>\n",
       "  </tbody>\n",
       "</table>\n",
       "</div>"
      ],
      "text/plain": [
       "        item_id               category_name    price\n",
       "0  b912c3c6a6ad  Товары для детей и игрушки    400.0\n",
       "1  2dac0150717d           Мебель и интерьер   3000.0\n",
       "2  ba83aefab5dc               Аудио и видео   4000.0\n",
       "3  02996f1dd2ea  Товары для детей и игрушки   2200.0\n",
       "4  7c90be56d2ab                  Автомобили  40000.0"
      ]
     },
     "execution_count": 58,
     "metadata": {},
     "output_type": "execute_result"
    }
   ],
   "source": [
    "df_all.head()"
   ]
  },
  {
   "cell_type": "code",
   "execution_count": 59,
   "metadata": {},
   "outputs": [],
   "source": [
    "# Calculate category mean and std (thanks Alireza)\n",
    "price_category_mean = df_all[['price', 'category_name']].groupby('category_name').mean().reset_index()\n",
    "price_category_std = df_all[['price', 'category_name']].groupby('category_name').std().reset_index()"
   ]
  },
  {
   "cell_type": "code",
   "execution_count": 60,
   "metadata": {},
   "outputs": [],
   "source": [
    "# initialise Category mean price, Category std and normalized price\n",
    "df_t['cat_price'] = np.nan\n",
    "df_t['cat_std'] = np.nan\n",
    "df_t['norm_price'] = np.nan"
   ]
  },
  {
   "cell_type": "code",
   "execution_count": 61,
   "metadata": {},
   "outputs": [
    {
     "data": {
      "text/html": [
       "<div>\n",
       "<style scoped>\n",
       "    .dataframe tbody tr th:only-of-type {\n",
       "        vertical-align: middle;\n",
       "    }\n",
       "\n",
       "    .dataframe tbody tr th {\n",
       "        vertical-align: top;\n",
       "    }\n",
       "\n",
       "    .dataframe thead th {\n",
       "        text-align: right;\n",
       "    }\n",
       "</style>\n",
       "<table border=\"1\" class=\"dataframe\">\n",
       "  <thead>\n",
       "    <tr style=\"text-align: right;\">\n",
       "      <th></th>\n",
       "      <th>item_id</th>\n",
       "      <th>category_name</th>\n",
       "      <th>price</th>\n",
       "      <th>deal_probability</th>\n",
       "      <th>cat_price</th>\n",
       "      <th>cat_std</th>\n",
       "      <th>norm_price</th>\n",
       "    </tr>\n",
       "  </thead>\n",
       "  <tbody>\n",
       "    <tr>\n",
       "      <th>0</th>\n",
       "      <td>b912c3c6a6ad</td>\n",
       "      <td>Товары для детей и игрушки</td>\n",
       "      <td>400.0</td>\n",
       "      <td>0.12789</td>\n",
       "      <td>NaN</td>\n",
       "      <td>NaN</td>\n",
       "      <td>NaN</td>\n",
       "    </tr>\n",
       "    <tr>\n",
       "      <th>1</th>\n",
       "      <td>2dac0150717d</td>\n",
       "      <td>Мебель и интерьер</td>\n",
       "      <td>3000.0</td>\n",
       "      <td>0.00000</td>\n",
       "      <td>NaN</td>\n",
       "      <td>NaN</td>\n",
       "      <td>NaN</td>\n",
       "    </tr>\n",
       "    <tr>\n",
       "      <th>2</th>\n",
       "      <td>ba83aefab5dc</td>\n",
       "      <td>Аудио и видео</td>\n",
       "      <td>4000.0</td>\n",
       "      <td>0.43177</td>\n",
       "      <td>NaN</td>\n",
       "      <td>NaN</td>\n",
       "      <td>NaN</td>\n",
       "    </tr>\n",
       "    <tr>\n",
       "      <th>3</th>\n",
       "      <td>02996f1dd2ea</td>\n",
       "      <td>Товары для детей и игрушки</td>\n",
       "      <td>2200.0</td>\n",
       "      <td>0.80323</td>\n",
       "      <td>NaN</td>\n",
       "      <td>NaN</td>\n",
       "      <td>NaN</td>\n",
       "    </tr>\n",
       "    <tr>\n",
       "      <th>4</th>\n",
       "      <td>7c90be56d2ab</td>\n",
       "      <td>Автомобили</td>\n",
       "      <td>40000.0</td>\n",
       "      <td>0.20797</td>\n",
       "      <td>NaN</td>\n",
       "      <td>NaN</td>\n",
       "      <td>NaN</td>\n",
       "    </tr>\n",
       "  </tbody>\n",
       "</table>\n",
       "</div>"
      ],
      "text/plain": [
       "        item_id               category_name    price  deal_probability  \\\n",
       "0  b912c3c6a6ad  Товары для детей и игрушки    400.0           0.12789   \n",
       "1  2dac0150717d           Мебель и интерьер   3000.0           0.00000   \n",
       "2  ba83aefab5dc               Аудио и видео   4000.0           0.43177   \n",
       "3  02996f1dd2ea  Товары для детей и игрушки   2200.0           0.80323   \n",
       "4  7c90be56d2ab                  Автомобили  40000.0           0.20797   \n",
       "\n",
       "   cat_price  cat_std  norm_price  \n",
       "0        NaN      NaN         NaN  \n",
       "1        NaN      NaN         NaN  \n",
       "2        NaN      NaN         NaN  \n",
       "3        NaN      NaN         NaN  \n",
       "4        NaN      NaN         NaN  "
      ]
     },
     "execution_count": 61,
     "metadata": {},
     "output_type": "execute_result"
    }
   ],
   "source": [
    "df_t.head()"
   ]
  },
  {
   "cell_type": "code",
   "execution_count": 62,
   "metadata": {},
   "outputs": [
    {
     "name": "stderr",
     "output_type": "stream",
     "text": [
      "/Users/dariuscognac/miniconda3/envs/dev/lib/python3.7/site-packages/ipykernel_launcher.py:3: SettingWithCopyWarning: \n",
      "A value is trying to be set on a copy of a slice from a DataFrame\n",
      "\n",
      "See the caveats in the documentation: http://pandas.pydata.org/pandas-docs/stable/indexing.html#indexing-view-versus-copy\n",
      "  This is separate from the ipykernel package so we can avoid doing imports until\n",
      "/Users/dariuscognac/miniconda3/envs/dev/lib/python3.7/site-packages/ipykernel_launcher.py:4: SettingWithCopyWarning: \n",
      "A value is trying to be set on a copy of a slice from a DataFrame\n",
      "\n",
      "See the caveats in the documentation: http://pandas.pydata.org/pandas-docs/stable/indexing.html#indexing-view-versus-copy\n",
      "  after removing the cwd from sys.path.\n"
     ]
    }
   ],
   "source": [
    "# assign category price mean and std values to each item\n",
    "for x in range (0,len(df_t)-1):\n",
    "    df_t.cat_price[x] =  price_category_mean.price [ price_category_mean.category_name == df_t.category_name[x] ]\n",
    "    df_t.cat_std[x] =  price_category_std.price [ price_category_std.category_name == df_t.category_name[x] ] \n",
    "    "
   ]
  },
  {
   "cell_type": "code",
   "execution_count": 63,
   "metadata": {},
   "outputs": [],
   "source": [
    "# Calculate normalized price\n",
    "df_t['norm_price'] =  (df_t['price'] - df_t['cat_price'] ) / df_t['cat_std'] "
   ]
  },
  {
   "cell_type": "code",
   "execution_count": 64,
   "metadata": {},
   "outputs": [
    {
     "data": {
      "text/html": [
       "<div>\n",
       "<style scoped>\n",
       "    .dataframe tbody tr th:only-of-type {\n",
       "        vertical-align: middle;\n",
       "    }\n",
       "\n",
       "    .dataframe tbody tr th {\n",
       "        vertical-align: top;\n",
       "    }\n",
       "\n",
       "    .dataframe thead th {\n",
       "        text-align: right;\n",
       "    }\n",
       "</style>\n",
       "<table border=\"1\" class=\"dataframe\">\n",
       "  <thead>\n",
       "    <tr style=\"text-align: right;\">\n",
       "      <th></th>\n",
       "      <th>item_id</th>\n",
       "      <th>category_name</th>\n",
       "      <th>price</th>\n",
       "      <th>deal_probability</th>\n",
       "      <th>cat_price</th>\n",
       "      <th>cat_std</th>\n",
       "      <th>norm_price</th>\n",
       "    </tr>\n",
       "  </thead>\n",
       "  <tbody>\n",
       "    <tr>\n",
       "      <th>0</th>\n",
       "      <td>b912c3c6a6ad</td>\n",
       "      <td>Товары для детей и игрушки</td>\n",
       "      <td>400.0</td>\n",
       "      <td>0.12789</td>\n",
       "      <td>2597.897196</td>\n",
       "      <td>3400.885401</td>\n",
       "      <td>-0.646272</td>\n",
       "    </tr>\n",
       "    <tr>\n",
       "      <th>1</th>\n",
       "      <td>2dac0150717d</td>\n",
       "      <td>Мебель и интерьер</td>\n",
       "      <td>3000.0</td>\n",
       "      <td>0.00000</td>\n",
       "      <td>6784.047059</td>\n",
       "      <td>13639.627569</td>\n",
       "      <td>-0.277430</td>\n",
       "    </tr>\n",
       "    <tr>\n",
       "      <th>2</th>\n",
       "      <td>ba83aefab5dc</td>\n",
       "      <td>Аудио и видео</td>\n",
       "      <td>4000.0</td>\n",
       "      <td>0.43177</td>\n",
       "      <td>4208.787879</td>\n",
       "      <td>6696.685168</td>\n",
       "      <td>-0.031178</td>\n",
       "    </tr>\n",
       "    <tr>\n",
       "      <th>3</th>\n",
       "      <td>02996f1dd2ea</td>\n",
       "      <td>Товары для детей и игрушки</td>\n",
       "      <td>2200.0</td>\n",
       "      <td>0.80323</td>\n",
       "      <td>2597.897196</td>\n",
       "      <td>3400.885401</td>\n",
       "      <td>-0.116998</td>\n",
       "    </tr>\n",
       "    <tr>\n",
       "      <th>4</th>\n",
       "      <td>7c90be56d2ab</td>\n",
       "      <td>Автомобили</td>\n",
       "      <td>40000.0</td>\n",
       "      <td>0.20797</td>\n",
       "      <td>232894.719298</td>\n",
       "      <td>184861.117474</td>\n",
       "      <td>-1.043457</td>\n",
       "    </tr>\n",
       "  </tbody>\n",
       "</table>\n",
       "</div>"
      ],
      "text/plain": [
       "        item_id               category_name    price  deal_probability  \\\n",
       "0  b912c3c6a6ad  Товары для детей и игрушки    400.0           0.12789   \n",
       "1  2dac0150717d           Мебель и интерьер   3000.0           0.00000   \n",
       "2  ba83aefab5dc               Аудио и видео   4000.0           0.43177   \n",
       "3  02996f1dd2ea  Товары для детей и игрушки   2200.0           0.80323   \n",
       "4  7c90be56d2ab                  Автомобили  40000.0           0.20797   \n",
       "\n",
       "       cat_price        cat_std  norm_price  \n",
       "0    2597.897196    3400.885401   -0.646272  \n",
       "1    6784.047059   13639.627569   -0.277430  \n",
       "2    4208.787879    6696.685168   -0.031178  \n",
       "3    2597.897196    3400.885401   -0.116998  \n",
       "4  232894.719298  184861.117474   -1.043457  "
      ]
     },
     "execution_count": 64,
     "metadata": {},
     "output_type": "execute_result"
    }
   ],
   "source": [
    "df_t.head()"
   ]
  },
  {
   "cell_type": "code",
   "execution_count": 79,
   "metadata": {},
   "outputs": [
    {
     "data": {
      "image/png": "[encoded data removed]",
      "text/plain": [
       "<Figure size 432x288 with 1 Axes>"
      ]
     },
     "metadata": {},
     "output_type": "display_data"
    }
   ],
   "source": [
    "plt.title('Price does not correlate with Deal Probability?')\n",
    "plt.xlabel('Actual Price')\n",
    "plt.ylabel('Deal Probability')\n",
    "plt.scatter(df_t.price, df_t.deal_probability);"
   ]
  },
  {
   "cell_type": "code",
   "execution_count": 80,
   "metadata": {},
   "outputs": [
    {
     "data": {
      "image/png": "[encoded data removed]",
      "text/plain": [
       "<Figure size 432x288 with 1 Axes>"
      ]
     },
     "metadata": {},
     "output_type": "display_data"
    }
   ],
   "source": [
    "plt.title('Normalized Price negatively correlates with Deal Probability')\n",
    "plt.xlabel('Normalized Price')\n",
    "plt.ylabel('Deal Probability')\n",
    "plt.scatter(df_t.norm_price, df_t.deal_probability);"
   ]
  },
  {
   "cell_type": "code",
   "execution_count": 81,
   "metadata": {},
   "outputs": [
    {
     "data": {
      "image/png": "[encoded data removed]",
      "text/plain": [
       "<Figure size 432x288 with 1 Axes>"
      ]
     },
     "metadata": {},
     "output_type": "display_data"
    }
   ],
   "source": [
    "plt.title('Mean Category Price negatively correlates with Deal Probability')\n",
    "plt.xlabel('Mean Category price')\n",
    "plt.ylabel('Deal Probability')\n",
    "plt.scatter(df_t.cat_price, df_t.deal_probability);"
   ]
  }
 ],
 "metadata": {
  "kernelspec": {
   "display_name": "Python 3",
   "language": "python",
   "name": "python3"
  },
  "language_info": {
   "codemirror_mode": {
    "name": "ipython",
    "version": 3
   },
   "file_extension": ".py",
   "mimetype": "text/x-python",
   "name": "python",
   "nbconvert_exporter": "python",
   "pygments_lexer": "ipython3",
   "version": "3.7.0"
  }
 },
 "nbformat": 4,
 "nbformat_minor": 2
}
