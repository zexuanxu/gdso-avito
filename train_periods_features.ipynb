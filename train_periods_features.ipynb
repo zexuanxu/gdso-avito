{
 "cells": [
  {
   "cell_type": "code",
   "execution_count": 1,
   "metadata": {},
   "outputs": [],
   "source": [
    "import pandas as pd\n",
    "import numpy as np\n",
    "import gc\n",
    "from tqdm import tqdm\n",
    "import matplotlib.pyplot as plt\n",
    "import seaborn as sns\n",
    "from matplotlib_venn import venn2, venn2_circles # requires pip install matplotlib_venn\n",
    "import string\n",
    "from sklearn.model_selection import train_test_split\n",
    "from sklearn.metrics import mean_squared_error\n",
    "from sklearn.preprocessing import LabelEncoder\n",
    "from sklearn.feature_extraction.text import CountVectorizer, TfidfVectorizer\n",
    "import nltk\n",
    "from nltk.corpus import stopwords\n",
    "import scipy\n",
    "# import lightgbm as lgb\n",
    "\n",
    "from utils import featurize_date_col\n",
    "\n",
    "sns.set()\n",
    "%matplotlib inline\n",
    "pd.options.mode.chained_assignment = None"
   ]
  },
  {
   "cell_type": "code",
   "execution_count": 2,
   "metadata": {},
   "outputs": [],
   "source": [
    "# user inputs:\n",
    "LIMIT = 200000"
   ]
  },
  {
   "cell_type": "code",
   "execution_count": 74,
   "metadata": {},
   "outputs": [],
   "source": [
    "train = pd.read_csv('data/train.csv', parse_dates=['activation_date'], infer_datetime_format=True, nrows=LIMIT)\n",
    "train_active = pd.read_csv('data/train_active.csv', parse_dates=['activation_date'], infer_datetime_format=True, nrows=LIMIT)\n",
    "test = pd.read_csv('data/test.csv', parse_dates=['activation_date'], infer_datetime_format=True, nrows=LIMIT)\n",
    "test_active = pd.read_csv('data/test_active.csv', parse_dates=['activation_date'], infer_datetime_format=True, nrows=LIMIT)"
   ]
  },
  {
   "cell_type": "code",
   "execution_count": 101,
   "metadata": {},
   "outputs": [
    {
     "data": {
      "text/plain": [
       "518"
      ]
     },
     "execution_count": 101,
     "metadata": {},
     "output_type": "execute_result"
    }
   ],
   "source": [
    "all_samples = pd.concat([\n",
    "    train,\n",
    "    train_active,\n",
    "    test,\n",
    "    test_active\n",
    "]).reset_index(drop=True)\n",
    "all_samples.drop_duplicates(['item_id'], inplace=True) # here we assume each item was published only once?\n",
    "\n",
    "# del train_active\n",
    "# del test_active\n",
    "gc.collect()"
   ]
  },
  {
   "cell_type": "code",
   "execution_count": 76,
   "metadata": {},
   "outputs": [],
   "source": [
    "train_periods = pd.read_csv('data/periods_train.csv', parse_dates=['date_from', 'date_to', 'activation_date'], infer_datetime_format=True, nrows=LIMIT)\n",
    "test_periods = pd.read_csv('data/periods_test.csv', parse_dates=['date_from', 'date_to', 'activation_date'], infer_datetime_format=True, nrows=LIMIT)"
   ]
  },
  {
   "cell_type": "code",
   "execution_count": 77,
   "metadata": {},
   "outputs": [
    {
     "data": {
      "text/plain": [
       "7"
      ]
     },
     "execution_count": 77,
     "metadata": {},
     "output_type": "execute_result"
    }
   ],
   "source": [
    "all_periods = pd.concat([\n",
    "    train_periods,\n",
    "    test_periods\n",
    "])\n",
    "\n",
    "del train_periods\n",
    "del test_periods\n",
    "gc.collect()"
   ]
  },
  {
   "cell_type": "code",
   "execution_count": 78,
   "metadata": {},
   "outputs": [
    {
     "data": {
      "text/plain": [
       "Index(['item_id', 'activation_date', 'date_from', 'date_to'], dtype='object')"
      ]
     },
     "execution_count": 78,
     "metadata": {},
     "output_type": "execute_result"
    }
   ],
   "source": [
    "all_periods.columns"
   ]
  },
  {
   "cell_type": "code",
   "execution_count": 103,
   "metadata": {},
   "outputs": [],
   "source": [
    "all_samples = all_samples.drop(['deal_probability', 'image', 'image_top_1', 'param_2', 'param_3'], axis=1)"
   ]
  },
  {
   "cell_type": "code",
   "execution_count": 140,
   "metadata": {},
   "outputs": [],
   "source": [
    "# all_samples.loc[all_samples['description'].isna(), 'description'] = 'unknown'\n",
    "# all_samples.loc[all_samples['param_1'].isna(), 'param_1'] = 'unknown'\n",
    "# all_samples.loc[all_samples['title'].isna(), 'title'] = 'unknown'\n",
    "all_samples['description'] = all_samples['description'].fillna('na')\n",
    "all_samples['param_1'] = all_samples['param_1'].fillna('na')\n",
    "all_samples['title'] = all_samples['title'].fillna('na')"
   ]
  },
  {
   "cell_type": "code",
   "execution_count": 111,
   "metadata": {},
   "outputs": [],
   "source": [
    "all_samples = all_samples[~all_samples['category_name'].isna()]"
   ]
  },
  {
   "cell_type": "code",
   "execution_count": 113,
   "metadata": {},
   "outputs": [],
   "source": [
    "mean_cat_price = all_samples[['price', 'category_name']].groupby('category_name')['price'].mean()\n",
    "std_cat_price = all_samples[['price', 'category_name']].groupby('category_name')['price'].std()"
   ]
  },
  {
   "cell_type": "code",
   "execution_count": 114,
   "metadata": {},
   "outputs": [],
   "source": [
    "all_samples['price'] = all_samples['price'].fillna(0.0) # fillna with the normalized mean price of the category (i.e. 0.0)"
   ]
  },
  {
   "cell_type": "code",
   "execution_count": 123,
   "metadata": {},
   "outputs": [],
   "source": [
    "all_samples['norm_price'] = all_samples['price']\n",
    "for cat in all_samples['category_name'].unique():\n",
    "    indexes = all_samples['category_name']==cat\n",
    "    all_samples.loc[indexes, 'norm_price'] -= mean_cat_price[cat]\n",
    "    all_samples.loc[indexes, 'norm_price'] /= std_cat_price[cat]"
   ]
  },
  {
   "cell_type": "code",
   "execution_count": 131,
   "metadata": {},
   "outputs": [],
   "source": [
    "all_samples.loc[all_samples['item_seq_number'].isna(), 'item_seq_number'] = all_samples['item_seq_number'].median()"
   ]
  },
  {
   "cell_type": "code",
   "execution_count": 135,
   "metadata": {},
   "outputs": [],
   "source": [
    "all_samples['user_type'] = all_samples['user_type'].fillna('Private') # most frquent user type (mode)"
   ]
  },
  {
   "cell_type": "code",
   "execution_count": 169,
   "metadata": {},
   "outputs": [],
   "source": [
    "all_samples = all_samples.loc[~all_samples['activation_date'].isna(), :]"
   ]
  },
  {
   "cell_type": "code",
   "execution_count": 170,
   "metadata": {},
   "outputs": [
    {
     "data": {
      "text/plain": [
       "activation_date         0.0\n",
       "category_name           0.0\n",
       "city                    0.0\n",
       "description             0.0\n",
       "item_id                 0.0\n",
       "item_seq_number         0.0\n",
       "param_1                 0.0\n",
       "parent_category_name    0.0\n",
       "price                   0.0\n",
       "region                  0.0\n",
       "title                   0.0\n",
       "user_id                 0.0\n",
       "user_type               0.0\n",
       "norm_price              0.0\n",
       "dtype: float64"
      ]
     },
     "execution_count": 170,
     "metadata": {},
     "output_type": "execute_result"
    }
   ],
   "source": [
    "all_samples.isna().sum()/len(all_samples)* 100"
   ]
  },
  {
   "cell_type": "code",
   "execution_count": 159,
   "metadata": {},
   "outputs": [
    {
     "data": {
      "text/plain": [
       "<matplotlib.axes._subplots.AxesSubplot at 0x1a805f4390>"
      ]
     },
     "execution_count": 159,
     "metadata": {},
     "output_type": "execute_result"
    },
    {
     "data": {
      "image/png": "[encoded data removed]",
      "text/plain": [
       "<matplotlib.figure.Figure at 0x1a3b22ccc0>"
      ]
     },
     "metadata": {},
     "output_type": "display_data"
    }
   ],
   "source": [
    "pd.value_counts(all_samples['activation_date'].dropna().astype(str)).plot(kind='bar')"
   ]
  },
  {
   "cell_type": "code",
   "execution_count": 168,
   "metadata": {},
   "outputs": [],
   "source": []
  },
  {
   "cell_type": "code",
   "execution_count": null,
   "metadata": {},
   "outputs": [],
   "source": []
  }
 ],
 "metadata": {
  "kernelspec": {
   "display_name": "Python 3",
   "language": "python",
   "name": "python3"
  },
  "language_info": {
   "codemirror_mode": {
    "name": "ipython",
    "version": 3
   },
   "file_extension": ".py",
   "mimetype": "text/x-python",
   "name": "python",
   "nbconvert_exporter": "python",
   "pygments_lexer": "ipython3",
   "version": "3.6.4"
  }
 },
 "nbformat": 4,
 "nbformat_minor": 2
}
