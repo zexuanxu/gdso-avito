{
 "cells": [
  {
   "cell_type": "code",
   "execution_count": null,
   "metadata": {},
   "outputs": [],
   "source": []
  },
  {
   "cell_type": "code",
   "execution_count": 8,
   "metadata": {},
   "outputs": [],
   "source": [
    "import pandas as pd\n",
    "import sqlite3\n",
    "from sqlalchemy.engine import create_engine\n",
    "import numpy as np\n",
    "import matplotlib.pyplot as plt\n",
    "%matplotlib inline\n",
    "from sklearn import datasets\n",
    "from sklearn import preprocessing\n",
    "from sklearn.model_selection import train_test_split\n",
    "from tpot import TPOTClassifier\n",
    "import utils\n",
    "from sklearn.model_selection import TimeSeriesSplit"
   ]
  },
  {
   "cell_type": "code",
   "execution_count": 23,
   "metadata": {},
   "outputs": [],
   "source": [
    "target = 'deal_probability'\n",
    "LIMIT = 100000"
   ]
  },
  {
   "cell_type": "code",
   "execution_count": 24,
   "metadata": {},
   "outputs": [],
   "source": [
    "avito = sqlite3.connect(\"avito.db\")\n"
   ]
  },
  {
   "cell_type": "code",
   "execution_count": 35,
   "metadata": {},
   "outputs": [],
   "source": [
    "train = pd.read_sql('SELECT price,item_seq_number,city,category_name,user_type,deal_probability FROM train WHERE price < 10000', avito)\n",
    "train = train.dropna()"
   ]
  },
  {
   "cell_type": "code",
   "execution_count": null,
   "metadata": {},
   "outputs": [],
   "source": []
  },
  {
   "cell_type": "code",
   "execution_count": 36,
   "metadata": {},
   "outputs": [],
   "source": [
    "city = preprocessing.LabelEncoder()\n",
    "city.fit(train['city'])  \n",
    "list(city.classes_)\n",
    "train['city'] = city.transform(train['city'])\n",
    "\n",
    "categ = preprocessing.LabelEncoder()\n",
    "categ.fit(train['category_name'])  \n",
    "list(categ.classes_)\n",
    "train['category_name'] = categ.transform(train['category_name'])\n",
    "\n",
    "user = preprocessing.LabelEncoder()\n",
    "user.fit(train['user_type'])  \n",
    "list(user.classes_)\n",
    "train['user_type'] = user.transform(train['user_type'])\n"
   ]
  },
  {
   "cell_type": "code",
   "execution_count": 37,
   "metadata": {},
   "outputs": [],
   "source": [
    "#train = pd.get_dummies(train[['category_name', 'user_type']])\n",
    "train = train[:LIMIT]"
   ]
  },
  {
   "cell_type": "code",
   "execution_count": 31,
   "metadata": {},
   "outputs": [],
   "source": [
    "#tpot_x = train[['price','item_seq_number','city','category_name','user_type']].values[:30000]\n",
    "#tpot_y = train['deal_probability'].values[:30000]"
   ]
  },
  {
   "cell_type": "code",
   "execution_count": 38,
   "metadata": {},
   "outputs": [],
   "source": [
    "tss = TimeSeriesSplit(n_splits=4)\n",
    "X = (train.drop(target, axis=1)).values\n",
    "y = train[target].values\n",
    "train_index, test_index = list(tss.split(X))[-1]\n",
    "X_train, X_test = X[train_index], X[test_index]\n",
    "y_train, y_test = y[train_index], y[test_index]"
   ]
  },
  {
   "cell_type": "code",
   "execution_count": 40,
   "metadata": {},
   "outputs": [
    {
     "data": {
      "text/plain": [
       "array([    0,     1,     2, ..., 79997, 79998, 79999])"
      ]
     },
     "execution_count": 40,
     "metadata": {},
     "output_type": "execute_result"
    }
   ],
   "source": [
    "train_index"
   ]
  },
  {
   "cell_type": "code",
   "execution_count": 41,
   "metadata": {},
   "outputs": [
    {
     "ename": "IndentationError",
     "evalue": "unexpected indent (<ipython-input-41-03bfd358a04c>, line 2)",
     "output_type": "error",
     "traceback": [
      "\u001b[0;36m  File \u001b[0;32m\"<ipython-input-41-03bfd358a04c>\"\u001b[0;36m, line \u001b[0;32m2\u001b[0m\n\u001b[0;31m    train_size=0.75, test_size=0.25)\u001b[0m\n\u001b[0m    ^\u001b[0m\n\u001b[0;31mIndentationError\u001b[0m\u001b[0;31m:\u001b[0m unexpected indent\n"
     ]
    }
   ],
   "source": [
    "#X_train, X_test, y_train, y_test = train_test_split(tpot_x, tpot_y,\n",
    "#                                                    train_size=0.75, test_size=0.25)"
   ]
  },
  {
   "cell_type": "code",
   "execution_count": 42,
   "metadata": {},
   "outputs": [],
   "source": [
    "#pipeline_optimizer = TPOTClassifier(generations=5, population_size=20, cv=5,\n",
    "#                                    random_state=42, verbosity=2)"
   ]
  },
  {
   "cell_type": "code",
   "execution_count": 43,
   "metadata": {},
   "outputs": [],
   "source": [
    "tpot_optimizer = utils.TpotAutoml(mode='regression', max_time_mins=30,\n",
    "                                  scoring='r2',random_state=23, n_jobs=-1,verbosity=2,\n",
    "                                  cv=TimeSeriesSplit(n_splits=3))"
   ]
  },
  {
   "cell_type": "code",
   "execution_count": 44,
   "metadata": {},
   "outputs": [
    {
     "name": "stderr",
     "output_type": "stream",
     "text": [
      "Optimization Progress: 201pipeline [15:21,  6.89s/pipeline]                   "
     ]
    },
    {
     "name": "stdout",
     "output_type": "stream",
     "text": [
      "Generation 1 - Current best internal CV score: 0.14122374055637318\n"
     ]
    },
    {
     "name": "stderr",
     "output_type": "stream",
     "text": [
      "Optimization Progress: 301pipeline [20:41,  5.84s/pipeline]                   "
     ]
    },
    {
     "name": "stdout",
     "output_type": "stream",
     "text": [
      "Generation 2 - Current best internal CV score: 0.1418440693839936\n"
     ]
    },
    {
     "name": "stderr",
     "output_type": "stream",
     "text": [
      "Optimization Progress: 401pipeline [26:47,  4.32s/pipeline]                   "
     ]
    },
    {
     "name": "stdout",
     "output_type": "stream",
     "text": [
      "Generation 3 - Current best internal CV score: 0.1419814895656163\n"
     ]
    },
    {
     "name": "stderr",
     "output_type": "stream",
     "text": [
      "                                                                              \r"
     ]
    },
    {
     "name": "stdout",
     "output_type": "stream",
     "text": [
      "\n",
      "31.030470033333334 minutes have elapsed. TPOT will close down.\n",
      "TPOT closed prematurely. Will use the current best pipeline.\n",
      "\n",
      "Best pipeline: ExtraTreesRegressor(ZeroCount(StandardScaler(input_matrix)), bootstrap=False, max_features=1.0, min_samples_leaf=17, min_samples_split=3, n_estimators=100)\n"
     ]
    }
   ],
   "source": [
    "tpot_optimizer.fit(X_train, y_train)\n"
   ]
  },
  {
   "cell_type": "code",
   "execution_count": 36,
   "metadata": {},
   "outputs": [
    {
     "name": "stdout",
     "output_type": "stream",
     "text": [
      "\n",
      "top cv scores:\n",
      "OrderedDict([('ExtraTreesRegressor', 0.12938287198748735), ('XGBRegressor', 0.12764902380254345), ('LassoLarsCV', 0.12683514109289584), ('RidgeCV', 0.12411627868558231), ('RandomForestRegressor', 0.12288545880528338), ('DecisionTreeRegressor', 0.1122301523794286), ('KNeighborsRegressor', 0.05007212134948704), ('GradientBoostingRegressor', 0.04064309850213299), ('LinearSVR', 0.013057045884839491), ('ElasticNetCV', 0.01302112305782488)])\n",
      "\n",
      "top models\n",
      "OrderedDict([('ExtraTreesRegressor', {'generation': 'INVALID', 'mutation_count': 2, 'crossover_count': 0, 'predecessor': ('ExtraTreesRegressor(XGBRegressor(input_matrix, XGBRegressor__learning_rate=0.01, XGBRegressor__max_depth=2, XGBRegressor__min_child_weight=13, XGBRegressor__n_estimators=100, XGBRegressor__nthread=1, XGBRegressor__subsample=0.35000000000000003), ExtraTreesRegressor__bootstrap=True, ExtraTreesRegressor__max_features=0.7000000000000001, ExtraTreesRegressor__min_samples_leaf=9, ExtraTreesRegressor__min_samples_split=13, ExtraTreesRegressor__n_estimators=100)',), 'operator_count': 2, 'internal_cv_score': 0.12938287198748735}), ('XGBRegressor', {'generation': 'INVALID', 'mutation_count': 3, 'crossover_count': 0, 'predecessor': ('XGBRegressor(input_matrix, XGBRegressor__learning_rate=0.1, XGBRegressor__max_depth=3, XGBRegressor__min_child_weight=16, XGBRegressor__n_estimators=100, XGBRegressor__nthread=1, XGBRegressor__subsample=0.55)',), 'operator_count': 2, 'internal_cv_score': 0.12764902380254345}), ('LassoLarsCV', {'generation': 'INVALID', 'mutation_count': 1, 'crossover_count': 0, 'predecessor': ('LassoLarsCV(XGBRegressor(input_matrix, XGBRegressor__learning_rate=0.001, XGBRegressor__max_depth=3, XGBRegressor__min_child_weight=20, XGBRegressor__n_estimators=100, XGBRegressor__nthread=1, XGBRegressor__subsample=0.45), LassoLarsCV__normalize=True)',), 'operator_count': 2, 'internal_cv_score': 0.12683514109289584}), ('RidgeCV', {'generation': 'INVALID', 'mutation_count': 1, 'crossover_count': 0, 'predecessor': ('RidgeCV(ExtraTreesRegressor(input_matrix, ExtraTreesRegressor__bootstrap=True, ExtraTreesRegressor__max_features=0.8500000000000001, ExtraTreesRegressor__min_samples_leaf=15, ExtraTreesRegressor__min_samples_split=17, ExtraTreesRegressor__n_estimators=100))',), 'operator_count': 2, 'internal_cv_score': 0.12411627868558231}), ('RandomForestRegressor', {'generation': 'INVALID', 'mutation_count': 2, 'crossover_count': 0, 'predecessor': ('RandomForestRegressor(OneHotEncoder(ElasticNetCV(input_matrix, ElasticNetCV__l1_ratio=0.35000000000000003, ElasticNetCV__tol=0.0001), OneHotEncoder__minimum_fraction=0.1, OneHotEncoder__sparse=False), RandomForestRegressor__bootstrap=True, RandomForestRegressor__max_features=0.6500000000000001, RandomForestRegressor__min_samples_leaf=17, RandomForestRegressor__min_samples_split=8, RandomForestRegressor__n_estimators=100)',), 'operator_count': 2, 'internal_cv_score': 0.12288545880528338}), ('DecisionTreeRegressor', {'generation': 'INVALID', 'mutation_count': 3, 'crossover_count': 0, 'predecessor': ('DecisionTreeRegressor(MinMaxScaler(DecisionTreeRegressor(input_matrix, DecisionTreeRegressor__max_depth=4, DecisionTreeRegressor__min_samples_leaf=19, DecisionTreeRegressor__min_samples_split=17)), DecisionTreeRegressor__max_depth=3, DecisionTreeRegressor__min_samples_leaf=7, DecisionTreeRegressor__min_samples_split=16)',), 'operator_count': 3, 'internal_cv_score': 0.1122301523794286}), ('KNeighborsRegressor', {'generation': 'INVALID', 'mutation_count': 1, 'crossover_count': 0, 'predecessor': ('LassoLarsCV(RobustScaler(input_matrix), LassoLarsCV__normalize=False)',), 'operator_count': 2, 'internal_cv_score': 0.05007212134948704}), ('GradientBoostingRegressor', {'generation': 0, 'mutation_count': 0, 'crossover_count': 0, 'predecessor': ('ROOT',), 'operator_count': 2, 'internal_cv_score': 0.04064309850213299}), ('LinearSVR', {'generation': 0, 'mutation_count': 0, 'crossover_count': 0, 'predecessor': ('ROOT',), 'operator_count': 1, 'internal_cv_score': 0.013057045884839491}), ('ElasticNetCV', {'generation': 'INVALID', 'mutation_count': 1, 'crossover_count': 0, 'predecessor': ('ElasticNetCV(CombineDFs(input_matrix, input_matrix), ElasticNetCV__l1_ratio=0.30000000000000004, ElasticNetCV__tol=0.1)',), 'operator_count': 2, 'internal_cv_score': 0.01302112305782488})])\n",
      "\n",
      "the best test score:\n",
      "0.14554645160676138\n"
     ]
    }
   ],
   "source": [
    "top_scores = tpot_optimizer.get_top_models(return_scores=True)\n",
    "print('\\ntop cv scores:')\n",
    "print(top_scores)\n",
    "print('\\ntop models')\n",
    "print(tpot_optimizer.top_models)\n",
    "print('\\nthe best test score:')\n",
    "test_score = tpot_optimizer.score(X_test, y_test)\n",
    "print(test_score)"
   ]
  },
  {
   "cell_type": "code",
   "execution_count": null,
   "metadata": {},
   "outputs": [],
   "source": []
  },
  {
   "cell_type": "code",
   "execution_count": null,
   "metadata": {},
   "outputs": [],
   "source": []
  },
  {
   "cell_type": "code",
   "execution_count": null,
   "metadata": {},
   "outputs": [],
   "source": []
  },
  {
   "cell_type": "code",
   "execution_count": null,
   "metadata": {},
   "outputs": [],
   "source": []
  },
  {
   "cell_type": "code",
   "execution_count": null,
   "metadata": {},
   "outputs": [],
   "source": []
  },
  {
   "cell_type": "code",
   "execution_count": null,
   "metadata": {},
   "outputs": [],
   "source": []
  },
  {
   "cell_type": "code",
   "execution_count": null,
   "metadata": {},
   "outputs": [],
   "source": []
  },
  {
   "cell_type": "code",
   "execution_count": null,
   "metadata": {},
   "outputs": [],
   "source": []
  },
  {
   "cell_type": "code",
   "execution_count": null,
   "metadata": {},
   "outputs": [],
   "source": []
  },
  {
   "cell_type": "code",
   "execution_count": null,
   "metadata": {},
   "outputs": [],
   "source": []
  },
  {
   "cell_type": "code",
   "execution_count": null,
   "metadata": {},
   "outputs": [],
   "source": []
  }
 ],
 "metadata": {
  "kernelspec": {
   "display_name": "Python 3",
   "language": "python",
   "name": "python3"
  },
  "language_info": {
   "codemirror_mode": {
    "name": "ipython",
    "version": 3
   },
   "file_extension": ".py",
   "mimetype": "text/x-python",
   "name": "python",
   "nbconvert_exporter": "python",
   "pygments_lexer": "ipython3",
   "version": "3.6.5"
  }
 },
 "nbformat": 4,
 "nbformat_minor": 2
}
