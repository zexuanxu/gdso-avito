{
 "cells": [
  {
   "cell_type": "markdown",
   "metadata": {},
   "source": [
    "This notebook summaries existing kernals for Avito project on Kaggle, especially focusing on **description** and **title** analysis.\n",
    "- libraries used\n",
    "- features chosen\n",
    "\n",
    "Note: for category related data, e.g. **parent_category_name** and **category_name**, they are in Russian as well. However, since they are predefined, we can just do label encode on them. "
   ]
  },
  {
   "cell_type": "markdown",
   "metadata": {},
   "source": [
    "# CATEGORY\n",
    "- label encode [link](https://www.kaggle.com/mehdib/lightgbm-with-nlp-pred)"
   ]
  },
  {
   "cell_type": "markdown",
   "metadata": {},
   "source": [
    "# Description\n",
    "- NLTK for both vectorization and stopwords [link](https://www.kaggle.com/johnfarrell/adp-prepare-text-metadata)\n",
    "- NLTK for stopwords, scikit-learn for vectorization [link](https://www.kaggle.com/ashukr/bow-meta-text-and-dense-fetrs-lgbm-4-0-2226/code), [link](https://www.kaggle.com/the1owl/bow-meta-text-and-dense-features-lgbm-clone2/code), [link](https://www.kaggle.com/classtag/russian-nlp-in-avito-demand-prediction) \n",
    "- Morphological analyzer for Russian language: [pymorphy2](https://pypi.org/project/pymorphy2/) . dealing with inflectuation structure [link](https://www.kaggle.com/matthewa313/nlp-improvements-for-russian-inflection-dataset), [link](https://www.kaggle.com/iggisv9t/handling-russian-language-inflectional-structure)\n",
    "- Translation using [GoogleTrans](https://py-googletrans.readthedocs.io/en/latest/): [link](https://www.kaggle.com/kaparna/translate-titles-and-descriptions)\n",
    "- Keras and Gensim for vectorization/word embedding: [link](https://www.kaggle.com/classtag/avito-word2vec-with-all-dataset-text), [link](https://www.kaggle.com/gidutz/text2score-keras-rnn-word-embedding), [link](https://www.kaggle.com/shanth84/rnn-detailed-explanation-0-2246), [link](https://www.kaggle.com/dicksonchin93/keras-gru-cnn-model-with-fasttext-on-description)\n",
    "- fastText for word embedding+keras, and classifier: [link](https://www.kaggle.com/jingqliu/fasttext-conv2d-title-keras), [link](https://www.kaggle.com/dicksonchin93/keras-gru-cnn-model-with-fasttext-on-description)\n",
    "- Light GBM [link](https://www.kaggle.com/tunguz/bow-meta-text-and-dense-features-lb-0-2241/code), [link](https://www.kaggle.com/nicapotato/bow-meta-text-and-dense-features-lgbm/code), \n",
    "- Gensim word2vec [link](https://www.kaggle.com/christofhenkel/using-train-active-for-training-word-embeddings)\n",
    "- other NLP [link](https://www.kaggle.com/samratp/wordbatch-ridge-fm-frtl-target-encoding-lgbm), [link](https://www.kaggle.com/paulorzp/tfidf-tensor-starter-lb-0-233), [link](https://www.kaggle.com/the1owl/bow-meta-text-and-dense-features-lgbm-clone2/code)\n",
    "- v XGB [link](https://www.kaggle.com/dicksonchin93/xgb-with-mean-encode-tfidf-feature-0-232)\n",
    "- text processing [link](https://www.kaggle.com/johnfarrell/adp-prepare-text-metadata)"
   ]
  },
  {
   "cell_type": "markdown",
   "metadata": {},
   "source": [
    "# Title\n",
    "- tensorflow [link](https://www.kaggle.com/jingqliu/fasttext-conv2d-with-tf-on-title)"
   ]
  },
  {
   "cell_type": "code",
   "execution_count": null,
   "metadata": {},
   "outputs": [],
   "source": [
    "keras is a wrapper of dl, tensorflow more setup. "
   ]
  },
  {
   "cell_type": "markdown",
   "metadata": {},
   "source": [
    "# R\n",
    "- https://www.kaggle.com/georgesnassopoulos/lgbm-text2vec-tfidf/code\n",
    "- https://www.kaggle.com/ganeshn88/xgboost-nlp-cloneofclone-0-224-46th-place\n",
    "- https://www.kaggle.com/konradb/xgb-text2vec-tfidf-clone-lb-0-226/code\n",
    "- https://www.kaggle.com/tetyanayatsenko/xgb-text2vec-tfidf-0-2237-yatsenko/code\n",
    "- https://www.kaggle.com/ganeshn88/detailed-eda-nlp-xgboost-model\n",
    "- https://www.kaggle.com/ganeshn88/xgboost-nlp-cloneofclone-0-224-46th-place"
   ]
  },
  {
   "cell_type": "markdown",
   "metadata": {},
   "source": [
    "# Potential features\n",
    "- Number of Words\n",
    "- Number of characters\n",
    "- Average Word Length\n",
    "- Number of stopwords\n",
    "- Number of special characters"
   ]
  },
  {
   "cell_type": "markdown",
   "metadata": {},
   "source": []
  }
 ],
 "metadata": {
  "kernelspec": {
   "display_name": "Python 3",
   "language": "python",
   "name": "python3"
  },
  "language_info": {
   "codemirror_mode": {
    "name": "ipython",
    "version": 3
   },
   "file_extension": ".py",
   "mimetype": "text/x-python",
   "name": "python",
   "nbconvert_exporter": "python",
   "pygments_lexer": "ipython3",
   "version": "3.6.5"
  }
 },
 "nbformat": 4,
 "nbformat_minor": 2
}
